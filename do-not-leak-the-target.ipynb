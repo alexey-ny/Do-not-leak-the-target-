{
 "cells": [
  {
   "cell_type": "code",
   "execution_count": 1,
   "metadata": {
    "_cell_guid": "79c7e3d0-c299-4dcb-8224-4455121ee9b0",
    "_kg_hide-input": true,
    "_uuid": "d629ff2d2480ee46fbb7e2d37f6b5fab8052498a",
    "execution": {
     "iopub.execute_input": "2020-10-08T21:18:58.258681Z",
     "iopub.status.busy": "2020-10-08T21:18:58.257934Z",
     "iopub.status.idle": "2020-10-08T21:18:59.564259Z",
     "shell.execute_reply": "2020-10-08T21:18:59.563519Z"
    },
    "papermill": {
     "duration": 1.334853,
     "end_time": "2020-10-08T21:18:59.564397",
     "exception": false,
     "start_time": "2020-10-08T21:18:58.229544",
     "status": "completed"
    },
    "tags": []
   },
   "outputs": [],
   "source": [
    "# Import libraries\n",
    "import math\n",
    "import random\n",
    "import numpy as np \n",
    "import pandas as pd\n",
    "\n",
    "import matplotlib.pyplot as plt\n",
    "from sklearn.metrics import confusion_matrix, accuracy_score\n",
    "from sklearn.metrics import f1_score, roc_auc_score, confusion_matrix, precision_recall_curve, auc, roc_curve, recall_score, classification_report \n",
    "from sklearn.model_selection import train_test_split\n",
    "import sklearn\n",
    "from sklearn import metrics\n",
    "from sklearn import preprocessing\n",
    "from sklearn.linear_model import LogisticRegression\n",
    "from sklearn.ensemble import RandomForestClassifier\n",
    "\n",
    "from imblearn.over_sampling import SMOTE\n",
    "import scikitplot as skplt"
   ]
  },
  {
   "cell_type": "markdown",
   "metadata": {
    "papermill": {
     "duration": 0.017999,
     "end_time": "2020-10-08T21:18:59.601559",
     "exception": false,
     "start_time": "2020-10-08T21:18:59.583560",
     "status": "completed"
    },
    "tags": []
   },
   "source": [
    "# Got 90ish AUC score? Check your test set!\n",
    "I want to discuss and illustrate a common problem some of the beginners face - target leak (I've been there myself as well). It appears that in this particular challenge it happens over and over again. So I think it'd be helpful to point out the most obvious mistake causing the leakage.<br>\n",
    "Short version - you must have a clean separate test set put aside before you do upsampling/oversampling. Otherwise you soil your test set with synthetic data that your model just has learnt to predict very well. Hence the incredibly amazing score. <br>\n",
    "I provide the example below.<br>\n",
    "<a style = 'color : darkgray'>And just to be clear - I'm not doing any EDA here...</a>"
   ]
  },
  {
   "cell_type": "markdown",
   "metadata": {
    "papermill": {
     "duration": 0.020061,
     "end_time": "2020-10-08T21:18:59.640002",
     "exception": false,
     "start_time": "2020-10-08T21:18:59.619941",
     "status": "completed"
    },
    "tags": []
   },
   "source": [
    "Lets have a look at our data:"
   ]
  },
  {
   "cell_type": "code",
   "execution_count": 2,
   "metadata": {
    "_kg_hide-input": true,
    "execution": {
     "iopub.execute_input": "2020-10-08T21:18:59.688275Z",
     "iopub.status.busy": "2020-10-08T21:18:59.687510Z",
     "iopub.status.idle": "2020-10-08T21:19:00.303905Z",
     "shell.execute_reply": "2020-10-08T21:19:00.304507Z"
    },
    "papermill": {
     "duration": 0.646336,
     "end_time": "2020-10-08T21:19:00.304661",
     "exception": false,
     "start_time": "2020-10-08T21:18:59.658325",
     "status": "completed"
    },
    "tags": []
   },
   "outputs": [
    {
     "data": {
      "text/html": [
       "<div>\n",
       "<style scoped>\n",
       "    .dataframe tbody tr th:only-of-type {\n",
       "        vertical-align: middle;\n",
       "    }\n",
       "\n",
       "    .dataframe tbody tr th {\n",
       "        vertical-align: top;\n",
       "    }\n",
       "\n",
       "    .dataframe thead th {\n",
       "        text-align: right;\n",
       "    }\n",
       "</style>\n",
       "<table border=\"1\" class=\"dataframe\">\n",
       "  <thead>\n",
       "    <tr style=\"text-align: right;\">\n",
       "      <th></th>\n",
       "      <th>Gender</th>\n",
       "      <th>Age</th>\n",
       "      <th>Driving_License</th>\n",
       "      <th>Region_Code</th>\n",
       "      <th>Previously_Insured</th>\n",
       "      <th>Vehicle_Age</th>\n",
       "      <th>Vehicle_Damage</th>\n",
       "      <th>Annual_Premium</th>\n",
       "      <th>Policy_Sales_Channel</th>\n",
       "      <th>Vintage</th>\n",
       "      <th>Response</th>\n",
       "    </tr>\n",
       "    <tr>\n",
       "      <th>id</th>\n",
       "      <th></th>\n",
       "      <th></th>\n",
       "      <th></th>\n",
       "      <th></th>\n",
       "      <th></th>\n",
       "      <th></th>\n",
       "      <th></th>\n",
       "      <th></th>\n",
       "      <th></th>\n",
       "      <th></th>\n",
       "      <th></th>\n",
       "    </tr>\n",
       "  </thead>\n",
       "  <tbody>\n",
       "    <tr>\n",
       "      <th>1</th>\n",
       "      <td>Male</td>\n",
       "      <td>44</td>\n",
       "      <td>1</td>\n",
       "      <td>28.0</td>\n",
       "      <td>0</td>\n",
       "      <td>&gt; 2 Years</td>\n",
       "      <td>Yes</td>\n",
       "      <td>40454.0</td>\n",
       "      <td>26.0</td>\n",
       "      <td>217</td>\n",
       "      <td>1</td>\n",
       "    </tr>\n",
       "    <tr>\n",
       "      <th>2</th>\n",
       "      <td>Male</td>\n",
       "      <td>76</td>\n",
       "      <td>1</td>\n",
       "      <td>3.0</td>\n",
       "      <td>0</td>\n",
       "      <td>1-2 Year</td>\n",
       "      <td>No</td>\n",
       "      <td>33536.0</td>\n",
       "      <td>26.0</td>\n",
       "      <td>183</td>\n",
       "      <td>0</td>\n",
       "    </tr>\n",
       "    <tr>\n",
       "      <th>3</th>\n",
       "      <td>Male</td>\n",
       "      <td>47</td>\n",
       "      <td>1</td>\n",
       "      <td>28.0</td>\n",
       "      <td>0</td>\n",
       "      <td>&gt; 2 Years</td>\n",
       "      <td>Yes</td>\n",
       "      <td>38294.0</td>\n",
       "      <td>26.0</td>\n",
       "      <td>27</td>\n",
       "      <td>1</td>\n",
       "    </tr>\n",
       "    <tr>\n",
       "      <th>4</th>\n",
       "      <td>Male</td>\n",
       "      <td>21</td>\n",
       "      <td>1</td>\n",
       "      <td>11.0</td>\n",
       "      <td>1</td>\n",
       "      <td>&lt; 1 Year</td>\n",
       "      <td>No</td>\n",
       "      <td>28619.0</td>\n",
       "      <td>152.0</td>\n",
       "      <td>203</td>\n",
       "      <td>0</td>\n",
       "    </tr>\n",
       "    <tr>\n",
       "      <th>5</th>\n",
       "      <td>Female</td>\n",
       "      <td>29</td>\n",
       "      <td>1</td>\n",
       "      <td>41.0</td>\n",
       "      <td>1</td>\n",
       "      <td>&lt; 1 Year</td>\n",
       "      <td>No</td>\n",
       "      <td>27496.0</td>\n",
       "      <td>152.0</td>\n",
       "      <td>39</td>\n",
       "      <td>0</td>\n",
       "    </tr>\n",
       "  </tbody>\n",
       "</table>\n",
       "</div>"
      ],
      "text/plain": [
       "    Gender  Age  Driving_License  Region_Code  Previously_Insured Vehicle_Age Vehicle_Damage  Annual_Premium  Policy_Sales_Channel  Vintage  Response\n",
       "id                                                                                                                                                   \n",
       "1     Male   44                1         28.0                   0   > 2 Years            Yes         40454.0                  26.0      217         1\n",
       "2     Male   76                1          3.0                   0    1-2 Year             No         33536.0                  26.0      183         0\n",
       "3     Male   47                1         28.0                   0   > 2 Years            Yes         38294.0                  26.0       27         1\n",
       "4     Male   21                1         11.0                   1    < 1 Year             No         28619.0                 152.0      203         0\n",
       "5   Female   29                1         41.0                   1    < 1 Year             No         27496.0                 152.0       39         0"
      ]
     },
     "execution_count": 2,
     "metadata": {},
     "output_type": "execute_result"
    }
   ],
   "source": [
    "# data loading and hypermarameters setup\n",
    "SEED = 1970\n",
    "random.seed(SEED)\n",
    "\n",
    "pd.set_option('display.max_columns', 500)\n",
    "pd.set_option('display.width', 1000)\n",
    "path = '../input/health-insurance-cross-sell-prediction/'\n",
    "df_train = pd.read_csv(path + \"train.csv\").set_index('id')\n",
    "df_train.head()"
   ]
  },
  {
   "cell_type": "code",
   "execution_count": 3,
   "metadata": {
    "execution": {
     "iopub.execute_input": "2020-10-08T21:19:00.350559Z",
     "iopub.status.busy": "2020-10-08T21:19:00.349816Z",
     "iopub.status.idle": "2020-10-08T21:19:00.360195Z",
     "shell.execute_reply": "2020-10-08T21:19:00.359585Z"
    },
    "papermill": {
     "duration": 0.035319,
     "end_time": "2020-10-08T21:19:00.360317",
     "exception": false,
     "start_time": "2020-10-08T21:19:00.324998",
     "status": "completed"
    },
    "tags": []
   },
   "outputs": [
    {
     "name": "stdout",
     "output_type": "stream",
     "text": [
      "0    334399\n",
      "1     46710\n",
      "Name: Response, dtype: int64\n",
      "Percentage of Positive class - 12 %\n"
     ]
    }
   ],
   "source": [
    "targets = df_train['Response'].value_counts()\n",
    "print(targets)\n",
    "print('Percentage of Positive class - %.0f'%(targets[1]/(targets.sum())*100), '%')"
   ]
  },
  {
   "cell_type": "markdown",
   "metadata": {
    "papermill": {
     "duration": 0.019681,
     "end_time": "2020-10-08T21:19:00.399664",
     "exception": false,
     "start_time": "2020-10-08T21:19:00.379983",
     "status": "completed"
    },
    "tags": []
   },
   "source": [
    "The major issue here is that we only have about 12% of the people who bought the insurance, 2 classes are really imbalanced. Therefore any model would have a tough time making confident prediction.<br>\n",
    "In general we'd like to have evenly represented classes. Otherwise we'd need to upsample the minority class, or downsample the majority. There are different approches and techniques for achieving it. One of them is SMOTE, and I choose it here since it is really easy to use. But you might want to [check it later](https://imbalanced-learn.readthedocs.io/en/stable/generated/imblearn.over_sampling.SMOTE.html#imblearn.over_sampling.SMOTE)."
   ]
  },
  {
   "cell_type": "markdown",
   "metadata": {
    "papermill": {
     "duration": 0.019586,
     "end_time": "2020-10-08T21:19:00.438936",
     "exception": false,
     "start_time": "2020-10-08T21:19:00.419350",
     "status": "completed"
    },
    "tags": []
   },
   "source": [
    "I'm encoding categorical features as labels (for simplicity I leave one-hot encoding out as it is not crucial for the problem at hands):"
   ]
  },
  {
   "cell_type": "code",
   "execution_count": 4,
   "metadata": {
    "_kg_hide-input": true,
    "execution": {
     "iopub.execute_input": "2020-10-08T21:19:00.487374Z",
     "iopub.status.busy": "2020-10-08T21:19:00.486560Z",
     "iopub.status.idle": "2020-10-08T21:19:01.010261Z",
     "shell.execute_reply": "2020-10-08T21:19:01.009651Z"
    },
    "papermill": {
     "duration": 0.551752,
     "end_time": "2020-10-08T21:19:01.010389",
     "exception": false,
     "start_time": "2020-10-08T21:19:00.458637",
     "status": "completed"
    },
    "tags": []
   },
   "outputs": [
    {
     "data": {
      "text/html": [
       "<div>\n",
       "<style scoped>\n",
       "    .dataframe tbody tr th:only-of-type {\n",
       "        vertical-align: middle;\n",
       "    }\n",
       "\n",
       "    .dataframe tbody tr th {\n",
       "        vertical-align: top;\n",
       "    }\n",
       "\n",
       "    .dataframe thead th {\n",
       "        text-align: right;\n",
       "    }\n",
       "</style>\n",
       "<table border=\"1\" class=\"dataframe\">\n",
       "  <thead>\n",
       "    <tr style=\"text-align: right;\">\n",
       "      <th></th>\n",
       "      <th>Gender</th>\n",
       "      <th>Age</th>\n",
       "      <th>Driving_License</th>\n",
       "      <th>Region_Code</th>\n",
       "      <th>Previously_Insured</th>\n",
       "      <th>Vehicle_Age</th>\n",
       "      <th>Vehicle_Damage</th>\n",
       "      <th>Annual_Premium</th>\n",
       "      <th>Policy_Sales_Channel</th>\n",
       "      <th>Vintage</th>\n",
       "      <th>Response</th>\n",
       "    </tr>\n",
       "    <tr>\n",
       "      <th>id</th>\n",
       "      <th></th>\n",
       "      <th></th>\n",
       "      <th></th>\n",
       "      <th></th>\n",
       "      <th></th>\n",
       "      <th></th>\n",
       "      <th></th>\n",
       "      <th></th>\n",
       "      <th></th>\n",
       "      <th></th>\n",
       "      <th></th>\n",
       "    </tr>\n",
       "  </thead>\n",
       "  <tbody>\n",
       "    <tr>\n",
       "      <th>1</th>\n",
       "      <td>1</td>\n",
       "      <td>44</td>\n",
       "      <td>1</td>\n",
       "      <td>28</td>\n",
       "      <td>0</td>\n",
       "      <td>2</td>\n",
       "      <td>1</td>\n",
       "      <td>40454.0</td>\n",
       "      <td>26</td>\n",
       "      <td>217</td>\n",
       "      <td>1</td>\n",
       "    </tr>\n",
       "    <tr>\n",
       "      <th>2</th>\n",
       "      <td>1</td>\n",
       "      <td>76</td>\n",
       "      <td>1</td>\n",
       "      <td>3</td>\n",
       "      <td>0</td>\n",
       "      <td>0</td>\n",
       "      <td>0</td>\n",
       "      <td>33536.0</td>\n",
       "      <td>26</td>\n",
       "      <td>183</td>\n",
       "      <td>0</td>\n",
       "    </tr>\n",
       "    <tr>\n",
       "      <th>3</th>\n",
       "      <td>1</td>\n",
       "      <td>47</td>\n",
       "      <td>1</td>\n",
       "      <td>28</td>\n",
       "      <td>0</td>\n",
       "      <td>2</td>\n",
       "      <td>1</td>\n",
       "      <td>38294.0</td>\n",
       "      <td>26</td>\n",
       "      <td>27</td>\n",
       "      <td>1</td>\n",
       "    </tr>\n",
       "    <tr>\n",
       "      <th>4</th>\n",
       "      <td>1</td>\n",
       "      <td>21</td>\n",
       "      <td>1</td>\n",
       "      <td>11</td>\n",
       "      <td>1</td>\n",
       "      <td>1</td>\n",
       "      <td>0</td>\n",
       "      <td>28619.0</td>\n",
       "      <td>152</td>\n",
       "      <td>203</td>\n",
       "      <td>0</td>\n",
       "    </tr>\n",
       "    <tr>\n",
       "      <th>5</th>\n",
       "      <td>0</td>\n",
       "      <td>29</td>\n",
       "      <td>1</td>\n",
       "      <td>41</td>\n",
       "      <td>1</td>\n",
       "      <td>1</td>\n",
       "      <td>0</td>\n",
       "      <td>27496.0</td>\n",
       "      <td>152</td>\n",
       "      <td>39</td>\n",
       "      <td>0</td>\n",
       "    </tr>\n",
       "  </tbody>\n",
       "</table>\n",
       "</div>"
      ],
      "text/plain": [
       "    Gender  Age  Driving_License  Region_Code  Previously_Insured  Vehicle_Age  Vehicle_Damage  Annual_Premium  Policy_Sales_Channel  Vintage  Response\n",
       "id                                                                                                                                                     \n",
       "1        1   44                1           28                   0            2               1         40454.0                    26      217         1\n",
       "2        1   76                1            3                   0            0               0         33536.0                    26      183         0\n",
       "3        1   47                1           28                   0            2               1         38294.0                    26       27         1\n",
       "4        1   21                1           11                   1            1               0         28619.0                   152      203         0\n",
       "5        0   29                1           41                   1            1               0         27496.0                   152       39         0"
      ]
     },
     "execution_count": 4,
     "metadata": {},
     "output_type": "execute_result"
    }
   ],
   "source": [
    "col_list = df_train.columns.to_list()[1:]\n",
    "df_train_corr = df_train.copy()\n",
    "\n",
    "categorical_features = ['Gender', 'Driving_License', 'Region_Code', 'Previously_Insured', 'Vehicle_Age', 'Vehicle_Damage','Policy_Sales_Channel']\n",
    "text_features = ['Gender', 'Vehicle_Age', 'Vehicle_Damage']\n",
    "\n",
    "# encode text categorical features\n",
    "le = preprocessing.LabelEncoder()\n",
    "for f in text_features :\n",
    "    df_train_corr[f] = le.fit_transform(df_train_corr[f])\n",
    "for f in categorical_features :\n",
    "    df_train_corr[f] = df_train_corr[f].astype('int32')\n",
    "\n",
    "df_train_corr.head()"
   ]
  },
  {
   "cell_type": "markdown",
   "metadata": {
    "papermill": {
     "duration": 0.020314,
     "end_time": "2020-10-08T21:19:01.051462",
     "exception": false,
     "start_time": "2020-10-08T21:19:01.031148",
     "status": "completed"
    },
    "tags": []
   },
   "source": [
    "Lets put aside 10% of the samples as our final test set (and FYI this is that most crucial moment many are missing). Any <a style = ' color : brown'>Feature Engineering</a> must be done <a style = ' color : red'>before</a> this split by the way."
   ]
  },
  {
   "cell_type": "code",
   "execution_count": 5,
   "metadata": {
    "execution": {
     "iopub.execute_input": "2020-10-08T21:19:01.099814Z",
     "iopub.status.busy": "2020-10-08T21:19:01.099062Z",
     "iopub.status.idle": "2020-10-08T21:19:01.167755Z",
     "shell.execute_reply": "2020-10-08T21:19:01.166991Z"
    },
    "papermill": {
     "duration": 0.095662,
     "end_time": "2020-10-08T21:19:01.167880",
     "exception": false,
     "start_time": "2020-10-08T21:19:01.072218",
     "status": "completed"
    },
    "tags": []
   },
   "outputs": [],
   "source": [
    "df_temp, X_test, y_temp, y_test = train_test_split(df_train_corr, df_train_corr['Response'], train_size=0.9, random_state = SEED)\n",
    "X_test = X_test.drop(columns = ['Response'])"
   ]
  },
  {
   "cell_type": "markdown",
   "metadata": {
    "papermill": {
     "duration": 0.020547,
     "end_time": "2020-10-08T21:19:01.209254",
     "exception": false,
     "start_time": "2020-10-08T21:19:01.188707",
     "status": "completed"
    },
    "tags": []
   },
   "source": [
    "Now lets do upsampling using SMOTE:"
   ]
  },
  {
   "cell_type": "code",
   "execution_count": 6,
   "metadata": {
    "execution": {
     "iopub.execute_input": "2020-10-08T21:19:01.274693Z",
     "iopub.status.busy": "2020-10-08T21:19:01.273905Z",
     "iopub.status.idle": "2020-10-08T21:19:02.145289Z",
     "shell.execute_reply": "2020-10-08T21:19:02.144336Z"
    },
    "papermill": {
     "duration": 0.915459,
     "end_time": "2020-10-08T21:19:02.145453",
     "exception": false,
     "start_time": "2020-10-08T21:19:01.229994",
     "status": "completed"
    },
    "tags": []
   },
   "outputs": [
    {
     "name": "stdout",
     "output_type": "stream",
     "text": [
      "(601966, 10)\n"
     ]
    },
    {
     "data": {
      "text/html": [
       "<div>\n",
       "<style scoped>\n",
       "    .dataframe tbody tr th:only-of-type {\n",
       "        vertical-align: middle;\n",
       "    }\n",
       "\n",
       "    .dataframe tbody tr th {\n",
       "        vertical-align: top;\n",
       "    }\n",
       "\n",
       "    .dataframe thead th {\n",
       "        text-align: right;\n",
       "    }\n",
       "</style>\n",
       "<table border=\"1\" class=\"dataframe\">\n",
       "  <thead>\n",
       "    <tr style=\"text-align: right;\">\n",
       "      <th></th>\n",
       "      <th>Gender</th>\n",
       "      <th>Age</th>\n",
       "      <th>Driving_License</th>\n",
       "      <th>Region_Code</th>\n",
       "      <th>Previously_Insured</th>\n",
       "      <th>Vehicle_Age</th>\n",
       "      <th>Vehicle_Damage</th>\n",
       "      <th>Annual_Premium</th>\n",
       "      <th>Policy_Sales_Channel</th>\n",
       "      <th>Vintage</th>\n",
       "    </tr>\n",
       "  </thead>\n",
       "  <tbody>\n",
       "    <tr>\n",
       "      <th>0</th>\n",
       "      <td>1</td>\n",
       "      <td>55</td>\n",
       "      <td>1</td>\n",
       "      <td>28</td>\n",
       "      <td>0</td>\n",
       "      <td>0</td>\n",
       "      <td>1</td>\n",
       "      <td>2630.0</td>\n",
       "      <td>124</td>\n",
       "      <td>242</td>\n",
       "    </tr>\n",
       "    <tr>\n",
       "      <th>1</th>\n",
       "      <td>1</td>\n",
       "      <td>46</td>\n",
       "      <td>1</td>\n",
       "      <td>35</td>\n",
       "      <td>0</td>\n",
       "      <td>0</td>\n",
       "      <td>1</td>\n",
       "      <td>27112.0</td>\n",
       "      <td>26</td>\n",
       "      <td>229</td>\n",
       "    </tr>\n",
       "    <tr>\n",
       "      <th>2</th>\n",
       "      <td>1</td>\n",
       "      <td>40</td>\n",
       "      <td>1</td>\n",
       "      <td>7</td>\n",
       "      <td>0</td>\n",
       "      <td>0</td>\n",
       "      <td>1</td>\n",
       "      <td>2630.0</td>\n",
       "      <td>26</td>\n",
       "      <td>174</td>\n",
       "    </tr>\n",
       "    <tr>\n",
       "      <th>3</th>\n",
       "      <td>0</td>\n",
       "      <td>31</td>\n",
       "      <td>1</td>\n",
       "      <td>4</td>\n",
       "      <td>1</td>\n",
       "      <td>1</td>\n",
       "      <td>0</td>\n",
       "      <td>50165.0</td>\n",
       "      <td>152</td>\n",
       "      <td>38</td>\n",
       "    </tr>\n",
       "    <tr>\n",
       "      <th>4</th>\n",
       "      <td>1</td>\n",
       "      <td>66</td>\n",
       "      <td>1</td>\n",
       "      <td>28</td>\n",
       "      <td>0</td>\n",
       "      <td>0</td>\n",
       "      <td>1</td>\n",
       "      <td>33511.0</td>\n",
       "      <td>24</td>\n",
       "      <td>292</td>\n",
       "    </tr>\n",
       "  </tbody>\n",
       "</table>\n",
       "</div>"
      ],
      "text/plain": [
       "   Gender  Age  Driving_License  Region_Code  Previously_Insured  Vehicle_Age  Vehicle_Damage  Annual_Premium  Policy_Sales_Channel  Vintage\n",
       "0       1   55                1           28                   0            0               1          2630.0                   124      242\n",
       "1       1   46                1           35                   0            0               1         27112.0                    26      229\n",
       "2       1   40                1            7                   0            0               1          2630.0                    26      174\n",
       "3       0   31                1            4                   1            1               0         50165.0                   152       38\n",
       "4       1   66                1           28                   0            0               1         33511.0                    24      292"
      ]
     },
     "execution_count": 6,
     "metadata": {},
     "output_type": "execute_result"
    }
   ],
   "source": [
    "ovrsmpl = SMOTE(n_jobs=-1, k_neighbors=5, random_state = SEED)\n",
    "X_balanced, y_balanced = ovrsmpl.fit_resample(df_temp.drop(['Response'], axis=1), df_temp['Response'])\n",
    "# sanity check\n",
    "print(X_balanced.shape)\n",
    "X_balanced.head()"
   ]
  },
  {
   "cell_type": "markdown",
   "metadata": {
    "papermill": {
     "duration": 0.022399,
     "end_time": "2020-10-08T21:19:02.190798",
     "exception": false,
     "start_time": "2020-10-08T21:19:02.168399",
     "status": "completed"
    },
    "tags": []
   },
   "source": [
    "Lets check the results of the upsampling:"
   ]
  },
  {
   "cell_type": "code",
   "execution_count": 7,
   "metadata": {
    "_kg_hide-input": true,
    "execution": {
     "iopub.execute_input": "2020-10-08T21:19:02.243057Z",
     "iopub.status.busy": "2020-10-08T21:19:02.242297Z",
     "iopub.status.idle": "2020-10-08T21:19:02.419656Z",
     "shell.execute_reply": "2020-10-08T21:19:02.418745Z"
    },
    "papermill": {
     "duration": 0.206797,
     "end_time": "2020-10-08T21:19:02.419847",
     "exception": false,
     "start_time": "2020-10-08T21:19:02.213050",
     "status": "completed"
    },
    "tags": []
   },
   "outputs": [
    {
     "name": "stdout",
     "output_type": "stream",
     "text": [
      "Number of duplicates in the original train set : 228\n",
      "Original class distribution:\n",
      "0    300983\n",
      "1     42015\n",
      "Name: Response, dtype: int64\n",
      "----------------------------------------\n",
      "Number of duplicates in the oversampled train set : 14221\n",
      "New class distribution:\n",
      "1    300983\n",
      "0    300983\n",
      "Name: Response, dtype: int64\n"
     ]
    }
   ],
   "source": [
    "print('Number of duplicates in the original train set :',df_temp.duplicated().sum())\n",
    "print('Original class distribution:')\n",
    "print(y_temp.value_counts())\n",
    "print('-'*40)\n",
    "print('Number of duplicates in the oversampled train set :',X_balanced.duplicated().sum())\n",
    "print('New class distribution:')\n",
    "print(y_balanced.value_counts())"
   ]
  },
  {
   "cell_type": "markdown",
   "metadata": {
    "papermill": {
     "duration": 0.02556,
     "end_time": "2020-10-08T21:19:02.477483",
     "exception": false,
     "start_time": "2020-10-08T21:19:02.451923",
     "status": "completed"
    },
    "tags": []
   },
   "source": [
    "There are quite a few duplicates produced (about 2.4%), and we might check later if they skew our results.<br>\n",
    "And now lets split our newly **upsampled and balanced** data set into **train/validation sets**."
   ]
  },
  {
   "cell_type": "code",
   "execution_count": 8,
   "metadata": {
    "execution": {
     "iopub.execute_input": "2020-10-08T21:19:02.549509Z",
     "iopub.status.busy": "2020-10-08T21:19:02.548498Z",
     "iopub.status.idle": "2020-10-08T21:19:02.625229Z",
     "shell.execute_reply": "2020-10-08T21:19:02.624598Z"
    },
    "papermill": {
     "duration": 0.117184,
     "end_time": "2020-10-08T21:19:02.625362",
     "exception": false,
     "start_time": "2020-10-08T21:19:02.508178",
     "status": "completed"
    },
    "tags": []
   },
   "outputs": [],
   "source": [
    "X_train, X_valid, y_train, y_valid = train_test_split(X_balanced, y_balanced, train_size=0.9, random_state = SEED)"
   ]
  },
  {
   "cell_type": "code",
   "execution_count": 9,
   "metadata": {
    "_kg_hide-input": true,
    "execution": {
     "iopub.execute_input": "2020-10-08T21:19:02.685651Z",
     "iopub.status.busy": "2020-10-08T21:19:02.684679Z",
     "iopub.status.idle": "2020-10-08T21:19:02.687722Z",
     "shell.execute_reply": "2020-10-08T21:19:02.687140Z"
    },
    "papermill": {
     "duration": 0.038971,
     "end_time": "2020-10-08T21:19:02.687845",
     "exception": false,
     "start_time": "2020-10-08T21:19:02.648874",
     "status": "completed"
    },
    "tags": []
   },
   "outputs": [],
   "source": [
    "def plot_ROC(fpr, tpr, m_name):\n",
    "    roc_auc = sklearn.metrics.auc(fpr, tpr)\n",
    "    plt.figure(figsize=(6, 6))\n",
    "    lw = 2\n",
    "    plt.plot(fpr, tpr, color='darkorange',\n",
    "             lw=lw, label='ROC curve (area = %0.2f)' % roc_auc, alpha=0.5)\n",
    "    \n",
    "    plt.plot([0, 1], [0, 1], color='navy', lw=lw, linestyle='--', alpha=0.5)\n",
    "    \n",
    "    plt.xlim([0.0, 1.0])\n",
    "    plt.ylim([0.0, 1.05])\n",
    "    plt.xticks(fontsize=16)\n",
    "    plt.yticks(fontsize=16)\n",
    "    plt.grid(True)\n",
    "    plt.xlabel('False Positive Rate', fontsize=16)\n",
    "    plt.ylabel('True Positive Rate', fontsize=16)\n",
    "    plt.title('Receiver operating characteristic for %s'%m_name, fontsize=20)\n",
    "    plt.legend(loc=\"lower right\", fontsize=16)\n",
    "    plt.show()"
   ]
  },
  {
   "cell_type": "markdown",
   "metadata": {
    "papermill": {
     "duration": 0.023231,
     "end_time": "2020-10-08T21:19:02.734785",
     "exception": false,
     "start_time": "2020-10-08T21:19:02.711554",
     "status": "completed"
    },
    "tags": []
   },
   "source": [
    "We are ready to train a basic model, and make predictions on our validation sets."
   ]
  },
  {
   "cell_type": "code",
   "execution_count": 10,
   "metadata": {
    "execution": {
     "iopub.execute_input": "2020-10-08T21:19:02.789267Z",
     "iopub.status.busy": "2020-10-08T21:19:02.788464Z",
     "iopub.status.idle": "2020-10-08T21:21:38.260329Z",
     "shell.execute_reply": "2020-10-08T21:21:38.260910Z"
    },
    "papermill": {
     "duration": 155.50286,
     "end_time": "2020-10-08T21:21:38.261086",
     "exception": false,
     "start_time": "2020-10-08T21:19:02.758226",
     "status": "completed"
    },
    "tags": []
   },
   "outputs": [
    {
     "data": {
      "text/plain": [
       "RandomForestClassifier()"
      ]
     },
     "execution_count": 10,
     "metadata": {},
     "output_type": "execute_result"
    }
   ],
   "source": [
    "rfc = RandomForestClassifier(n_estimators=100)\n",
    "rfc.fit(X_train, y_train)"
   ]
  },
  {
   "cell_type": "code",
   "execution_count": 11,
   "metadata": {
    "_kg_hide-input": true,
    "execution": {
     "iopub.execute_input": "2020-10-08T21:21:38.319431Z",
     "iopub.status.busy": "2020-10-08T21:21:38.318376Z",
     "iopub.status.idle": "2020-10-08T21:21:38.321275Z",
     "shell.execute_reply": "2020-10-08T21:21:38.321823Z"
    },
    "papermill": {
     "duration": 0.03707,
     "end_time": "2020-10-08T21:21:38.321991",
     "exception": false,
     "start_time": "2020-10-08T21:21:38.284921",
     "status": "completed"
    },
    "tags": []
   },
   "outputs": [],
   "source": [
    "def predict_display(df,target):\n",
    "    rfc_preds_proba = rfc.predict_proba(df)\n",
    "    rfc_pred = rfc.predict(df)\n",
    "    rfc_preds_proba = rfc.predict_proba(df)\n",
    "    rfc_score = roc_auc_score(target, rfc_preds_proba[:,1])\n",
    "    (fpr, tpr, thresholds) = roc_curve(target, rfc_preds_proba[:,1])\n",
    "    plot_ROC(fpr, tpr,'RandomForestClassifier')\n",
    "    print('ROC AUC score for RandomForestClassifier model with over-sampling: %.4f'%rfc_score)\n",
    "    print('F1 score: %0.4f'%f1_score(target, rfc_pred))\n",
    "    print(f\"Accuracy score is {100*accuracy_score(target,rfc_pred).round(2)}\")\n",
    "    skplt.metrics.plot_confusion_matrix(target, rfc_pred,figsize=(8,8))"
   ]
  },
  {
   "cell_type": "markdown",
   "metadata": {
    "papermill": {
     "duration": 0.023791,
     "end_time": "2020-10-08T21:21:38.370176",
     "exception": false,
     "start_time": "2020-10-08T21:21:38.346385",
     "status": "completed"
    },
    "tags": []
   },
   "source": [
    "Prepare to be <a style = 'font-weight: bold; color : red'>amazed</a> :)<br>\n",
    "This Random Forest classifier with default settings will provide us with quite remarkable results with no efforts. And of course we can get it much better with tuning parameters, or using boosted trees, like XGBoost, for example. We can get to almost ***perfect 100%*** :)"
   ]
  },
  {
   "cell_type": "code",
   "execution_count": 12,
   "metadata": {
    "execution": {
     "iopub.execute_input": "2020-10-08T21:21:38.425612Z",
     "iopub.status.busy": "2020-10-08T21:21:38.424876Z",
     "iopub.status.idle": "2020-10-08T21:21:46.139683Z",
     "shell.execute_reply": "2020-10-08T21:21:46.138935Z"
    },
    "papermill": {
     "duration": 7.74561,
     "end_time": "2020-10-08T21:21:46.139805",
     "exception": false,
     "start_time": "2020-10-08T21:21:38.394195",
     "status": "completed"
    },
    "tags": []
   },
   "outputs": [
    {
     "data": {
      "image/png": "[encoded data removed]",
      "text/plain": [
       "<Figure size 432x432 with 1 Axes>"
      ]
     },
     "metadata": {
      "needs_background": "light"
     },
     "output_type": "display_data"
    },
    {
     "name": "stdout",
     "output_type": "stream",
     "text": [
      "ROC AUC score for RandomForestClassifier model with over-sampling: 0.9508\n",
      "F1 score: 0.8792\n",
      "Accuracy score is 87.0\n"
     ]
    },
    {
     "data": {
      "image/png": "[encoded data removed]",
      "text/plain": [
       "<Figure size 576x576 with 2 Axes>"
      ]
     },
     "metadata": {
      "needs_background": "light"
     },
     "output_type": "display_data"
    }
   ],
   "source": [
    "# doing prediction on the validation set we got AFTER oversampling\n",
    "predict_display(X_valid, y_valid)"
   ]
  },
  {
   "cell_type": "markdown",
   "metadata": {
    "papermill": {
     "duration": 0.026614,
     "end_time": "2020-10-08T21:21:46.193997",
     "exception": false,
     "start_time": "2020-10-08T21:21:46.167383",
     "status": "completed"
    },
    "tags": []
   },
   "source": [
    "As you can see we got really decent and **balanced** prediction.<br>\n",
    "<br>\n",
    "However if we check the same model on the **preserved test set** that was not affected by the oversampling algorithm the result is drastically different.<br>\n",
    "It is most apparent when you compare the confusion matrices - the model is not really capable of predicting <a style='color:red'>True Positives</a>, giving almost 50% <a style='color:red'>False Negatives</a> and significant number of <a style='color:red'>False Positives</a>. The score mostly defined by the prediction of <a style='color:red'>True Negatives</a> which is much more easier to do due to the class imbalance in the test set. And the **F1 score is just 40%** in this case.<br>\n",
    "However I need to point out that the balancing classes by SMOTE has helped a lot because the same model trained on the original imbalanced dataset predicts almost no <a style='color:red'>True Positives</a>, giving **F1 score below 2%** as the result (I checked it when started working with this challenge)."
   ]
  },
  {
   "cell_type": "code",
   "execution_count": 13,
   "metadata": {
    "execution": {
     "iopub.execute_input": "2020-10-08T21:21:46.255677Z",
     "iopub.status.busy": "2020-10-08T21:21:46.254919Z",
     "iopub.status.idle": "2020-10-08T21:21:50.834889Z",
     "shell.execute_reply": "2020-10-08T21:21:50.834085Z"
    },
    "papermill": {
     "duration": 4.613892,
     "end_time": "2020-10-08T21:21:50.835017",
     "exception": false,
     "start_time": "2020-10-08T21:21:46.221125",
     "status": "completed"
    },
    "tags": []
   },
   "outputs": [
    {
     "data": {
      "image/png": "[encoded data removed]",
      "text/plain": [
       "<Figure size 432x432 with 1 Axes>"
      ]
     },
     "metadata": {
      "needs_background": "light"
     },
     "output_type": "display_data"
    },
    {
     "name": "stdout",
     "output_type": "stream",
     "text": [
      "ROC AUC score for RandomForestClassifier model with over-sampling: 0.8291\n",
      "F1 score: 0.3980\n",
      "Accuracy score is 80.0\n"
     ]
    },
    {
     "data": {
      "image/png": "[encoded data removed]",
      "text/plain": [
       "<Figure size 576x576 with 2 Axes>"
      ]
     },
     "metadata": {
      "needs_background": "light"
     },
     "output_type": "display_data"
    }
   ],
   "source": [
    "# doing prediction on the validation set we put aside BEFORE oversampling\n",
    "predict_display(X_test, y_test)"
   ]
  },
  {
   "cell_type": "markdown",
   "metadata": {
    "papermill": {
     "duration": 0.029546,
     "end_time": "2020-10-08T21:21:50.895476",
     "exception": false,
     "start_time": "2020-10-08T21:21:50.865930",
     "status": "completed"
    },
    "tags": []
   },
   "source": [
    "This does not look as good, but it is a good starting point! <BR>\n",
    "Knowing that oversampling helps us we can improve further by doing feature engineering, choosing different models with better perfomance, ensembling different models etc."
   ]
  },
  {
   "cell_type": "markdown",
   "metadata": {
    "papermill": {
     "duration": 0.029374,
     "end_time": "2020-10-08T21:21:50.955040",
     "exception": false,
     "start_time": "2020-10-08T21:21:50.925666",
     "status": "completed"
    },
    "tags": []
   },
   "source": [
    "# Conclusion\n",
    "So as you can see it is a very simple mistake that can easily be avoided - just take care of your validation/test set before doing any type of oversampling/upsampling.<br>\n",
    "However keep in mind that there are more trickier ways to get the leakage, and I'd advise to learn about the issue, maybe starting with this [Kaggle tutorial 'Data Leakage'](https://www.kaggle.com/alexisbcook/data-leakage)"
   ]
  },
  {
   "cell_type": "markdown",
   "metadata": {
    "papermill": {
     "duration": 0.0296,
     "end_time": "2020-10-08T21:21:51.014219",
     "exception": false,
     "start_time": "2020-10-08T21:21:50.984619",
     "status": "completed"
    },
    "tags": []
   },
   "source": [
    "<p style = 'font-size : medium; font-weight: bold; color : brown'> Please Upvote this notebook if you found it useful. </p>"
   ]
  }
 ],
 "metadata": {
  "kernelspec": {
   "display_name": "Python 3",
   "language": "python",
   "name": "python3"
  },
  "language_info": {
   "codemirror_mode": {
    "name": "ipython",
    "version": 3
   },
   "file_extension": ".py",
   "mimetype": "text/x-python",
   "name": "python",
   "nbconvert_exporter": "python",
   "pygments_lexer": "ipython3",
   "version": "3.7.6"
  },
  "papermill": {
   "duration": 177.725461,
   "end_time": "2020-10-08T21:21:51.152403",
   "environment_variables": {},
   "exception": null,
   "input_path": "__notebook__.ipynb",
   "output_path": "__notebook__.ipynb",
   "parameters": {},
   "start_time": "2020-10-08T21:18:53.426942",
   "version": "2.1.0"
  }
 },
 "nbformat": 4,
 "nbformat_minor": 4
}
